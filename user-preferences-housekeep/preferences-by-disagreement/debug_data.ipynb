{
 "cells": [
  {
   "cell_type": "code",
   "execution_count": 2,
   "metadata": {},
   "outputs": [],
   "source": [
    "import torch\n",
    "\n",
    "config = {\n",
    "        'hidden_size': 512,\n",
    "        'output_size': 1,\n",
    "        'batch_size': 64,\n",
    "        'max_epochs': 25,\n",
    "        'lr': 0.005,\n",
    "        'num_layers': 2,\n",
    "        'weight_decay': 1e-6,\n",
    "        'data_path': 'personas_tensor_data_18-04-2023_13-24-46.pt',\n",
    "        'user_conditioned': True\n",
    "    }\n",
    "\n",
    "# load data\n",
    "data_dict = torch.load(config['data_path'])"
   ]
  },
  {
   "cell_type": "code",
   "execution_count": null,
   "metadata": {},
   "outputs": [],
   "source": []
  }
 ],
 "metadata": {
  "kernelspec": {
   "display_name": "housekeep-preferences",
   "language": "python",
   "name": "python3"
  },
  "language_info": {
   "codemirror_mode": {
    "name": "ipython",
    "version": 3
   },
   "file_extension": ".py",
   "mimetype": "text/x-python",
   "name": "python",
   "nbconvert_exporter": "python",
   "pygments_lexer": "ipython3",
   "version": "3.8.16"
  },
  "orig_nbformat": 4
 },
 "nbformat": 4,
 "nbformat_minor": 2
}
