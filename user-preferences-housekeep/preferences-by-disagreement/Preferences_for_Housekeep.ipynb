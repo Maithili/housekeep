{
  "cells": [
    {
      "cell_type": "markdown",
      "metadata": {
        "id": "IWJfE6IyWmzr"
      },
      "source": [
        "# Housekeep human preferences dataset\n",
        "\n",
        "In this notebook, we provide a walk through our Housekeep human preferences dataset. \n",
        "\n",
        "Download the dataset [here](https://drive.google.com/drive/folders/1pnFWwEAtSupY0MCmvfYYaf6-kD9c0dp8) and upload it before running this notebook."
      ]
    },
    {
      "attachments": {},
      "cell_type": "markdown",
      "metadata": {
        "id": "AyVAQHlAzedU"
      },
      "source": [
        "## Import packages and compile helper functions"
      ]
    },
    {
      "cell_type": "code",
      "execution_count": 2,
      "metadata": {
        "id": "yJbx-irMWmO5"
      },
      "outputs": [],
      "source": [
        "import numpy as np\n",
        "import pandas as pd"
      ]
    },
    {
      "cell_type": "code",
      "execution_count": 10,
      "metadata": {},
      "outputs": [],
      "source": [
        "def receptacle_labels2vec(x):\n",
        "  result = np.zeros((128,)) # because of 128 receptacles\n",
        "  for recep in x:\n",
        "     result[recep] = 1\n",
        "  return result\n",
        "\n",
        "\n",
        "def distance_metric(x, y):\n",
        "\n",
        "  if np.all(x==y): # exactly same\n",
        "    return 0\n",
        "\n",
        "  dot_prod = np.dot(x, y)\n",
        "\n",
        "  if (sum(x**2) + sum(y**2) - dot_prod) == 0:\n",
        "    print(sum(x), sum(y))\n",
        "    input('wait')\n",
        "\n",
        "  # jaccard distance = 1 - jaccard similarity = 1 - (a n b)/(a U b)\n",
        "  return 1 - dot_prod/(sum(x**2) + sum(y**2) - dot_prod)"
      ]
    },
    {
      "cell_type": "markdown",
      "metadata": {
        "id": "O9tiZv5k0SAK"
      },
      "source": [
        "## Load dataset"
      ]
    },
    {
      "attachments": {},
      "cell_type": "markdown",
      "metadata": {
        "id": "o9XNDC3V1nys"
      },
      "source": [
        "Our data is organized as a pandas DataFrame with following fields:\n",
        "\n",
        "\n",
        "\n",
        "**annotator_idx**: The participants are indexed as 0, 1, ..., 370. \n",
        "\n",
        "**assignment_idx**: The assignments are indexed as 0, 1, ... . Each assignment has a set of 10 tasks which are solved by a single participant. Each individual task involves finding and ranking *correct* and *misplaced* receptacles in a given room for a given object. \n",
        "\n",
        "We collect 10 annotations for each object-room pair.\n",
        "\n",
        "**object_idx**: object indexed as 0, 1, ..., 267.  \n",
        "\n",
        "**room_idx**: room indexed as 0, 1, ..., 16.\n",
        "\n",
        "**correct**/**misplaced**: ranked list of *correct*/*misplaced* room-receptacles. Each room-receptacle is indexed as 0, 1, ..., 127.\n",
        "\n",
        "**implausible**: list of implausible room-receptacles indexed as 0, 1, ..., 127.\n"
      ]
    },
    {
      "cell_type": "code",
      "execution_count": 3,
      "metadata": {
        "colab": {
          "base_uri": "https://localhost:8080/",
          "height": 306
        },
        "id": "QAIApyAmt0RG",
        "outputId": "f32a7c84-573a-4337-d996-82d081f7c107"
      },
      "outputs": [],
      "source": [
        "data_path = './housekeep.npy'\n",
        "data_dict = np.load(data_path, allow_pickle=True).item()"
      ]
    },
    {
      "cell_type": "code",
      "execution_count": 6,
      "metadata": {
        "id": "UBWZmuVBuuRI"
      },
      "outputs": [],
      "source": [
        "objects = data_dict['objects']\n",
        "object2index = dict({v:k for k, v in enumerate(objects)})\n",
        "rooms = data_dict['rooms']\n",
        "room_receps = data_dict['room_receptacles']\n",
        "rooms2index = dict({v:k for k, v in enumerate(rooms)})\n",
        "housekeep_data = data_dict['data']"
      ]
    },
    {
      "cell_type": "markdown",
      "metadata": {
        "id": "vVc7soFN0-Fs"
      },
      "source": [
        "## Visualizing the data"
      ]
    },
    {
      "cell_type": "code",
      "execution_count": null,
      "metadata": {
        "id": "W48r6NS8zrFK"
      },
      "outputs": [],
      "source": [
        "print(f\"Objects ({len(objects)}): {', '.join(objects[:5])}, ...\")\n",
        "print(f\"Rooms ({len(rooms)}): {', '.join(rooms[:5])}, ...\")\n",
        "print(f\"Room receptacles ({len(room_receps)}): {', '.join(room_receps[:5])}, ...\")\n",
        "\n",
        "# for o in objects: print(o)\n",
        "for r in rooms: print(r)"
      ]
    },
    {
      "cell_type": "code",
      "execution_count": null,
      "metadata": {},
      "outputs": [],
      "source": [
        "desired_rooms = ['bathroom', 'bedroom', 'dining_room', 'kitchen', 'living_room']\n",
        "set_of_recepts = set()\n",
        "\n",
        "for item in room_receps:\n",
        "    room, recep = item.split('|')\n",
        "    if room in desired_rooms: print(room, recep)\n",
        "    set_of_recepts.update([recep])\n",
        "\n",
        "# set_of_recepts"
      ]
    },
    {
      "cell_type": "code",
      "execution_count": null,
      "metadata": {},
      "outputs": [],
      "source": [
        "print('All rooms: ', list(rooms))\n",
        "\n",
        "for item in room_receps:\n",
        "    room, recep = item.split('|')\n",
        "    if recep == 'fridge':\n",
        "        print(f'{room}-{recep}')"
      ]
    },
    {
      "cell_type": "code",
      "execution_count": null,
      "metadata": {
        "id": "WWFnMbD71Zao"
      },
      "outputs": [],
      "source": [
        "print(f\"Total number of rows: {len(housekeep_data)} (10 x n_objects x n_rooms)\")\n",
        "housekeep_data.head(5)"
      ]
    },
    {
      "cell_type": "code",
      "execution_count": 7,
      "metadata": {},
      "outputs": [
        {
          "name": "stdout",
          "output_type": "stream",
          "text": [
            "Object: lego_duplo, Room: utility_room\n",
            "Correct (ranked): top_cabinet, bottom_cabinet\n",
            "Incorrect (ranked): carpet, sink, washer, dryer\n",
            "Implausible:  table\n"
          ]
        }
      ],
      "source": [
        "# Let's look at a sample annotation\n",
        "id = 1\n",
        "\n",
        "row = housekeep_data.loc[id]\n",
        "\n",
        "object_name = objects[row['object_idx']]\n",
        "room_name = rooms[row['room_idx']]\n",
        "correct_receps = [room_receps[r].split('|')[1] for r in row['correct']]\n",
        "misplaced_receps = [room_receps[r].split('|')[1] for r in row['misplaced']]\n",
        "implausible_receps = [room_receps[r].split('|')[1] for r in row['implausible']]\n",
        "\n",
        "print(f'Object: {object_name}, Room: {room_name}')\n",
        "print(f\"Correct (ranked): {', '.join(correct_receps)}\")\n",
        "print(f\"Incorrect (ranked): {', '.join(misplaced_receps)}\")\n",
        "print(f\"Implausible:  {', '.join(implausible_receps)}\")"
      ]
    },
    {
      "attachments": {},
      "cell_type": "markdown",
      "metadata": {},
      "source": [
        "## do room names and room-receptacle names share the same room name? "
      ]
    },
    {
      "cell_type": "code",
      "execution_count": 17,
      "metadata": {},
      "outputs": [],
      "source": [
        "for id in range(len(housekeep_data)):\n",
        "    row = housekeep_data.loc[id]\n",
        "\n",
        "    room_name = rooms[row['room_idx']]\n",
        "    correct_receps = [room_receps[r].split('|')[0] for r in row['correct']]\n",
        "    if any([room_name != i for i in correct_receps]):\n",
        "        print(room_name)\n",
        "        print([x.split('|')[0] for x in correct_receps])\n",
        "        print('---')"
      ]
    },
    {
      "attachments": {},
      "cell_type": "markdown",
      "metadata": {},
      "source": [
        "## Visualize generated clusters (from pkl)"
      ]
    },
    {
      "cell_type": "code",
      "execution_count": 8,
      "metadata": {},
      "outputs": [
        {
          "name": "stdout",
          "output_type": "stream",
          "text": [
            "[0, 1, 3, 4, 5, 6, 7, 8]\n",
            "['bathroom|bathtub', 'bathroom|bottom_cabinet', 'bathroom|counter', 'bathroom|shelf', 'bathroom|sink', 'bathroom|table', 'bathroom|toilet', 'bathroom|top_cabinet']\n",
            "---\n",
            "[0, 1, 3, 5, 7]\n",
            "['bathroom|bathtub', 'bathroom|bottom_cabinet', 'bathroom|counter', 'bathroom|sink', 'bathroom|toilet']\n",
            "---\n"
          ]
        }
      ],
      "source": [
        "import pickle as pkl\n",
        "import matplotlib.pyplot as plt\n",
        "\n",
        "# print(housekeep_data[(housekeep_data['object_idx']==object2index['cloth'])&(housekeep_data['room_idx']==rooms2index['kitchen'])])\n",
        "# print(clustering_pandas_df[(clustering_pandas_df['object']=='cloth')&(clustering_pandas_df['room']=='kitchen')])\n",
        "\n",
        "with open('all_clusters_poslessthan1en2.pkl', 'rb') as fh:\n",
        "    cluster_objects_dict = pkl.load(fh)\n",
        "\n",
        "object = 'lantern'\n",
        "room = 'bathroom'\n",
        "\n",
        "key = f'{object}_{room}'\n",
        "\n",
        "if key not in cluster_objects_dict:\n",
        "    print(f'cant find {key}')\n",
        "\n",
        "clusters = cluster_objects_dict[key]\n",
        "\n",
        "for c in clusters:\n",
        "    print(c)\n",
        "    print([room_receps[k] for k in c])\n",
        "    print('---')"
      ]
    },
    {
      "attachments": {},
      "cell_type": "markdown",
      "metadata": {},
      "source": [
        "## Calculate annotater agreement scores (Fleiss' Kappa)"
      ]
    },
    {
      "cell_type": "code",
      "execution_count": 5,
      "metadata": {},
      "outputs": [],
      "source": [
        "def fleiss_kappa_kartik(subject_label_mat):\n",
        "\n",
        "    assert isinstance(subject_label_mat, np.ndarray)\n",
        "\n",
        "    rowwise_sum = np.sum(subject_label_mat, axis=1)\n",
        "    nonzero_rows = np.where(rowwise_sum > 0)[0]\n",
        "\n",
        "    # print('non0 rows: ', nonzero_rows) #DEBUG\n",
        "\n",
        "    working_matrix = subject_label_mat[nonzero_rows, :]\n",
        "    rowwise_sum_working = np.sum(working_matrix, axis=1) # number of ratings per subject\n",
        "\n",
        "    # proportion of assignments belonging to jth category/column\n",
        "    p_j_array = np.sum(working_matrix, axis=0)/np.sum(working_matrix)\n",
        "    assert len(p_j_array) == working_matrix.shape[1]\n",
        "\n",
        "    if any(p_j_array==1.0): # if all annotators chose either only correct or only the other\n",
        "        return 1.0\n",
        "\n",
        "    # agreement score for category i w.r.t. total number of annotator pairs\n",
        "    P_i_array = (np.sum(working_matrix**2, axis=1) - rowwise_sum_working)/(rowwise_sum_working**2 - rowwise_sum_working)\n",
        "    assert len(P_i_array) == working_matrix.shape[0]\n",
        "\n",
        "    P_i_mean = np.mean(P_i_array)\n",
        "\n",
        "    P_e_sum = np.sum(p_j_array**2)\n",
        "\n",
        "    # print(working_matrix)\n",
        "    # print(P_i_mean, P_e_sum)\n",
        "    # input('wait')\n",
        "\n",
        "    return 1.0*(P_i_mean-P_e_sum)/(1-P_e_sum)"
      ]
    },
    {
      "attachments": {},
      "cell_type": "markdown",
      "metadata": {},
      "source": [
        "### Agreement combining misplaced and incorrect"
      ]
    },
    {
      "cell_type": "code",
      "execution_count": 6,
      "metadata": {},
      "outputs": [],
      "source": [
        "object_agreement_scores_combined = dict({})\n",
        "\n",
        "for object_idx in range(268):\n",
        "    for room_idx in range(17):\n",
        "        filtered_values = np.where((housekeep_data['object_idx']==object_idx)&(housekeep_data['room_idx']==room_idx))\n",
        "\n",
        "        receptacle2labels = np.zeros((128, 2)) # receptacle2labels[rcpt] = correct/incorrect(misplaced, implausible)\n",
        "\n",
        "        for i, d in housekeep_data.loc[filtered_values].iterrows():\n",
        "            for rcpt in d['correct']:\n",
        "                receptacle2labels[rcpt, 0] += 1\n",
        "\n",
        "            for rcpt in d['misplaced']:\n",
        "                receptacle2labels[rcpt, 1] += 1\n",
        "\n",
        "            for rcpt in d['implausible']:\n",
        "                receptacle2labels[rcpt, 1] += 1\n",
        "\n",
        "        object_agreement_scores_combined['{}/{}'.format(objects[object_idx], rooms[room_idx])] = fleiss_kappa_kartik(receptacle2labels)"
      ]
    },
    {
      "cell_type": "code",
      "execution_count": 9,
      "metadata": {},
      "outputs": [
        {
          "name": "stdout",
          "output_type": "stream",
          "text": [
            "2056\n"
          ]
        },
        {
          "data": {
            "text/plain": [
              "(-0.2, 1.2)"
            ]
          },
          "execution_count": 9,
          "metadata": {},
          "output_type": "execute_result"
        },
        {
          "data": {
            "image/png": "[encoded data removed]",
            "text/plain": [
              "<Figure size 640x480 with 1 Axes>"
            ]
          },
          "metadata": {},
          "output_type": "display_data"
        }
      ],
      "source": [
        "import seaborn as sns\n",
        "import pandas as pd\n",
        "import matplotlib.pyplot as plt\n",
        "\n",
        "keys = object_agreement_scores_combined.keys()\n",
        "object_agreement_scores_combined_pd = pd.DataFrame({\n",
        "    'label': keys, 'agreement': [object_agreement_scores_combined[k] for k in keys]\n",
        "})\n",
        "\n",
        "print(len(object_agreement_scores_combined_pd[(0.0<object_agreement_scores_combined_pd['agreement'])&(object_agreement_scores_combined_pd['agreement']<=0.2)]))\n",
        "\n",
        "sns.histplot(data=object_agreement_scores_combined_pd, x='agreement', binwidth=0.1, stat='proportion')\n",
        "plt.ylim(0, 1.0)\n",
        "plt.xlim(-0.2, 1.2)"
      ]
    },
    {
      "attachments": {},
      "cell_type": "markdown",
      "metadata": {},
      "source": [
        "### Save examples with agreement between 0 and 0.2"
      ]
    },
    {
      "cell_type": "code",
      "execution_count": 10,
      "metadata": {},
      "outputs": [],
      "source": [
        "# save all objects with agreement scores less than 0.2\n",
        "with open('housekeep_poslessthan1en2_agreement.txt', 'w') as fw:\n",
        "    for k, v in object_agreement_scores_combined.items():\n",
        "        if 0 < v <= 0.2:\n",
        "            fw.write(f'{k},{v}\\n')"
      ]
    },
    {
      "attachments": {},
      "cell_type": "markdown",
      "metadata": {},
      "source": [
        "### Agreement separating correct, misplaced and incorrect"
      ]
    },
    {
      "cell_type": "code",
      "execution_count": null,
      "metadata": {},
      "outputs": [],
      "source": [
        "from statsmodels.stats.inter_rater import fleiss_kappa as fleiss_kappa_stats\n",
        "object_agreement_scores = dict({})\n",
        "\n",
        "for object_idx in range(268):\n",
        "    for room_idx in range(17):\n",
        "        filtered_values = np.where((housekeep_data['object_idx']==object_idx)&(housekeep_data['room_idx']==room_idx))\n",
        "\n",
        "        receptacle2labels = np.zeros((128, 3)) # receptacle2labels[rcpt] = correct/misplaced/implausible\n",
        "\n",
        "        for i, d in housekeep_data.loc[filtered_values].iterrows():\n",
        "            for rcpt in d['correct']:\n",
        "                receptacle2labels[rcpt, 0] += 1\n",
        "\n",
        "            for rcpt in d['misplaced']:\n",
        "                receptacle2labels[rcpt, 1] += 1\n",
        "\n",
        "            for rcpt in d['implausible']:\n",
        "                receptacle2labels[rcpt, 2] += 1\n",
        "\n",
        "        # ---- Using my function ---- \n",
        "        object_agreement_scores['{}/{}'.format(objects[object_idx], rooms[room_idx])] = fleiss_kappa_kartik(receptacle2labels)\n",
        "\n",
        "        # # --- Using statsmodel func ---\n",
        "\n",
        "        # rowwise_sum = np.sum(receptacle2labels, axis=1) # remove empty rows\n",
        "        # nonzero_rows = np.where(rowwise_sum > 0)[0]\n",
        "        # working_matrix = receptacle2labels[nonzero_rows, :]\n",
        "\n",
        "        # if not all(np.sum(working_matrix, axis=1) == 10): # remove examples with unequal number of annotators\n",
        "        #     print('skip... ', np.sum(working_matrix, axis=1))\n",
        "        #     continue\n",
        "        # object_agreement_scores['{}/{}'.format(objects[object_idx], rooms[room_idx])] = fleiss_kappa_stats(table=working_matrix, method='fleiss')"
      ]
    },
    {
      "cell_type": "code",
      "execution_count": null,
      "metadata": {},
      "outputs": [],
      "source": [
        "import seaborn as sns\n",
        "import pandas as pd\n",
        "import matplotlib.pyplot as plt\n",
        "\n",
        "keys = object_agreement_scores.keys()\n",
        "object_agreement_scores_pd = pd.DataFrame({\n",
        "    'label': keys, 'agreement': [object_agreement_scores[k] for k in keys]\n",
        "})\n",
        "\n",
        "print(len(object_agreement_scores_pd[object_agreement_scores_pd['agreement']<=0.0]))\n",
        "\n",
        "sns.histplot(data=object_agreement_scores_pd, x='agreement', binwidth=0.1, stat='proportion')\n",
        "plt.ylim(0, 1.0)\n",
        "plt.xlim(-0.2, 1.2)"
      ]
    },
    {
      "attachments": {},
      "cell_type": "markdown",
      "metadata": {},
      "source": [
        "#### Save object-room pairs with agreement \\<= 0.0"
      ]
    },
    {
      "cell_type": "code",
      "execution_count": null,
      "metadata": {},
      "outputs": [],
      "source": [
        "# save all objects with agreement scores less than 0.2\n",
        "with open('housekeep_worst_agreement.txt', 'w') as fw:\n",
        "    for k, v in object_agreement_scores.items():\n",
        "        if v <= 0:\n",
        "            fw.write(f'{k},{v}\\n')"
      ]
    },
    {
      "attachments": {},
      "cell_type": "markdown",
      "metadata": {},
      "source": [
        "## Misc: Clustering object-receptacle pairs based on distance threshold"
      ]
    },
    {
      "cell_type": "code",
      "execution_count": null,
      "metadata": {},
      "outputs": [],
      "source": [
        "from sklearn.cluster import AgglomerativeClustering\n",
        "import numpy as np\n",
        "import pandas as pd\n",
        "import seaborn as sns\n",
        "\n",
        "THRESHOLD = 0.3\n",
        "\n",
        "clustering_pandas_df = pd.DataFrame([], \n",
        "    columns=['objectid', 'roomid', 'num_clusters', 'cluster_asgns'])\n",
        "\n",
        "for object_idx in range(268):\n",
        "\n",
        "  filtered_values = np.where(housekeep_data['object_idx'] == object_idx)\n",
        "  annotators = []\n",
        "  datapoints = []\n",
        "\n",
        "  # lists to vector\n",
        "  for i, d in housekeep_data.loc[filtered_values].iterrows():\n",
        "\n",
        "    vec = np.concatenate([receptacle_labels2vec(d['correct']), \n",
        "                            receptacle_labels2vec(d['misplaced']),\n",
        "                            receptacle_labels2vec(d['implausible'])])\n",
        "\n",
        "    annotators.append(d['annotator_idx'])\n",
        "    datapoints.append(vec[np.newaxis, :])\n",
        "\n",
        "  # array of datapoints\n",
        "  datapoints_array = np.concatenate(datapoints, axis=0)\n",
        "\n",
        "  # pairwise distance matrix\n",
        "  pairwise_dist_mat = np.zeros((len(datapoints_array), len(datapoints_array)))\n",
        "  for i1, d1 in enumerate(datapoints_array):\n",
        "    for i2, d2 in enumerate(datapoints_array):\n",
        "      pairwise_dist_mat[i1, i2] = distance_metric(d1, d2)\n",
        "\n",
        "  # clusters\n",
        "  clusters = AgglomerativeClustering(n_clusters=None, affinity=\"precomputed\", linkage=\"single\", distance_threshold=THRESHOLD).fit_predict(pairwise_dist_mat)\n",
        "  num_clusters = 1 + max(clusters)\n",
        "\n",
        "  clustering_pandas_df = pd.concat([clustering_pandas_df, pd.DataFrame(dict({'objectid':[object_idx],\n",
        "                                                                              'num_clusters': [num_clusters],\n",
        "                                                                              'cluster_asgns': (len(clusters)*'{}-').format(*clusters)\n",
        "                                                                                }))\n",
        "                                    ], ignore_index=True)"
      ]
    },
    {
      "cell_type": "code",
      "execution_count": null,
      "metadata": {},
      "outputs": [],
      "source": [
        "if THRESHOLD == 0.5:\n",
        "    clustering_pandas_df.to_csv('./dataframe_distthresh-5en1.csv', encoding = 'utf-8-sig')\n",
        "elif THRESHOLD == 0.7:\n",
        "    clustering_pandas_df.to_csv('./dataframe_distthresh-7en1.csv', encoding = 'utf-8-sig')\n",
        "elif THRESHOLD == 0.3:\n",
        "    clustering_pandas_df.to_csv('./dataframe_distthresh-3en1.csv', encoding = 'utf-8-sig')"
      ]
    },
    {
      "cell_type": "code",
      "execution_count": null,
      "metadata": {},
      "outputs": [],
      "source": [
        "import matplotlib.pyplot as plt\n",
        "\n",
        "THRESHOLD = 0.3\n",
        "if THRESHOLD == 0.5:\n",
        "    clustering_pandas_df = pd.read_csv('./dataframe_distthresh-5en1.csv')\n",
        "elif THRESHOLD == 0.7:\n",
        "    clustering_pandas_df = pd.read_csv('./dataframe_distthresh-7en1.csv')\n",
        "elif THRESHOLD == 0.3:\n",
        "    clustering_pandas_df = pd.read_csv('./dataframe_distthresh-3en1.csv')\n",
        "\n",
        "tuples_to_plot = pd.DataFrame([], columns=['obj_room', 'num_clusters'])\n",
        "for _, row in clustering_pandas_df.iterrows():\n",
        "  newdf = pd.DataFrame(\n",
        "      dict({'obj_room':['o{}r{}'.format(row['objectid'], row['roomid'])],\n",
        "            'num_clusters': [row['num_clusters']]\n",
        "            })\n",
        "      )\n",
        "  tuples_to_plot = pd.concat([tuples_to_plot, newdf], ignore_index=True)\n",
        "\n",
        "plt.figure(figsize=(12, 8))\n",
        "sns.histplot(data=tuples_to_plot, x='num_clusters', discrete=True)\n",
        "plt.xticks(range(11))\n",
        "tuples_to_plot.head()\n"
      ]
    },
    {
      "attachments": {},
      "cell_type": "markdown",
      "metadata": {},
      "source": [
        "# Debug"
      ]
    },
    {
      "cell_type": "code",
      "execution_count": 28,
      "metadata": {},
      "outputs": [],
      "source": [
        "import pickle as pkl\n",
        "\n",
        "# load clusters of correct receptacle labels\n",
        "with open('all_clusters_poslessthan1en2_maxclusters3.pkl', 'rb') as fh:\n",
        "    cluster_objects_dict = pkl.load(fh)\n",
        "\n",
        "for key, value in cluster_objects_dict.items():\n",
        "    roomname_key = key.split('+')[1]\n",
        "\n",
        "    for v in value:\n",
        "        \n",
        "        roomnames_v_list = [room_receps[i].split('|')[0] for i in v]\n",
        "\n",
        "        if not all([roomname_key == i for i in roomnames_v_list]):\n",
        "            print(key)\n",
        "            print(v, roomnames_v_list)\n",
        "            print('---')"
      ]
    },
    {
      "cell_type": "code",
      "execution_count": null,
      "metadata": {},
      "outputs": [],
      "source": [
        "# load persona data\n",
        "with open('housekeep_personas_poslessthan1en2_maxclusters3.pkl', 'rb') as fh:\n",
        "    persona_data_dict = pkl.load(fh)\n",
        "\n",
        "for value in persona_data_dict.values():\n",
        "    persona = value['persona']\n",
        "\n",
        "    for sk, usk, skr, uskr in zip(value['seen_keys'], value['unseen_keys'], value['seen_key_recepts'], value['unseen_key_recepts']):\n",
        "        sk_room = sk.split('+')[1]\n",
        "        usk_room = usk.split('+')[1]\n",
        "\n",
        "        skr_rooms = [room_receps[i].split('|')[0] for i in skr]\n",
        "        uskr_rooms = [room_receps[i].split('|')[0] for i in uskr]\n",
        "\n",
        "        if any([sk_room ])"
      ]
    }
  ],
  "metadata": {
    "colab": {
      "provenance": []
    },
    "kernelspec": {
      "display_name": "housekeep-preferences",
      "language": "python",
      "name": "python3"
    },
    "language_info": {
      "codemirror_mode": {
        "name": "ipython",
        "version": 3
      },
      "file_extension": ".py",
      "mimetype": "text/x-python",
      "name": "python",
      "nbconvert_exporter": "python",
      "pygments_lexer": "ipython3",
      "version": "3.8.16"
    },
    "vscode": {
      "interpreter": {
        "hash": "d3e9ada5a17d646d7b07c339393ad2761030939500d38eff90cd4061bf6741cc"
      }
    }
  },
  "nbformat": 4,
  "nbformat_minor": 0
}
