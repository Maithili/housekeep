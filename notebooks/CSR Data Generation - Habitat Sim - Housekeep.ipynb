{
 "cells": [
  {
   "cell_type": "code",
   "execution_count": 1,
   "id": "6bd117e5",
   "metadata": {},
   "outputs": [],
   "source": [
    "# !pip install magnum"
   ]
  },
  {
   "cell_type": "code",
   "execution_count": 2,
   "id": "8ce49652",
   "metadata": {},
   "outputs": [],
   "source": [
    "# PB_REL=\"https://github.com/protocolbuffers/protobuf/releases\"\n",
    "# !curl -LO $PB_REL/download/v3.15.8/protoc-3.15.8-linux-x86_64.zip\n",
    "# !unzip protoc-3.15.8-linux-x86_64.zip -d $HOME/.local\n",
    "# !export PATH=\"$PATH:$HOME/.local/bin\""
   ]
  },
  {
   "cell_type": "code",
   "execution_count": null,
   "id": "3fda91df",
   "metadata": {},
   "outputs": [
    {
     "ename": "",
     "evalue": "",
     "output_type": "error",
     "traceback": [
      "\u001b[1;31mJupyter cannot be started. Error attempting to locate Jupyter: Running cells requires jupyter and notebook package.\n",
      "\u001b[1;31mRun the following command to install 'jupyter and notebook' into the Python environment. \n",
      "\u001b[1;31mCommand: 'python -m pip install jupyter notebook -U\n",
      "\u001b[1;31mor\n",
      "\u001b[1;31mconda install jupyter notebook -U'\n",
      "\u001b[1;31mClick <a href='https://aka.ms/installJupyterForVSCode'>here</a> for more info."
     ]
    }
   ],
   "source": [
    "import json"
   ]
  },
  {
   "cell_type": "code",
   "execution_count": 3,
   "id": "a9b494ef",
   "metadata": {},
   "outputs": [],
   "source": [
    "# !conda install protobuf"
   ]
  },
  {
   "cell_type": "code",
   "execution_count": 4,
   "id": "6db0ad26",
   "metadata": {},
   "outputs": [
    {
     "name": "stderr",
     "output_type": "stream",
     "text": [
      "/srv/flash1/gchhablani3/miniconda3/envs/ovr/lib/python3.7/site-packages/tqdm/auto.py:21: TqdmWarning: IProgress not found. Please update jupyter and ipywidgets. See https://ipywidgets.readthedocs.io/en/stable/user_install.html\n",
      "  from .autonotebook import tqdm as notebook_tqdm\n"
     ]
    },
    {
     "name": "stdout",
     "output_type": "stream",
     "text": [
      "100 1\n"
     ]
    },
    {
     "name": "stderr",
     "output_type": "stream",
     "text": [
      "/coc/testnvme/gchhablani3/housekeep/habitat-lab/habitat_baselines/config/default.py:226: UserWarning: NUM_PROCESSES is depricated and will be removed in a future version.  Use NUM_ENVIRONMENTS instead.  Overwriting NUM_ENVIRONMENTS with NUM_PROCESSES for backwards compatibility.\n",
      "  \"NUM_PROCESSES is depricated and will be removed in a future version.\"\n"
     ]
    }
   ],
   "source": [
    "from typing import Dict, List, Any\n",
    "\n",
    "import argparse\n",
    "from collections import defaultdict\n",
    "import os\n",
    "from pathlib import Path\n",
    "import random\n",
    "import sys\n",
    "\n",
    "import numpy as np\n",
    "import numba\n",
    "import torch\n",
    "import tqdm\n",
    "\n",
    "cwd = os.getcwd()\n",
    "pwd = os.path.dirname(cwd)\n",
    "ppwd = os.path.dirname(pwd)\n",
    "\n",
    "for dir in [cwd, pwd, ppwd]:\n",
    "    sys.path.insert(1, dir)\n",
    "\n",
    "from habitat.core.registry import registry\n",
    "from habitat_baselines.common.environments import get_env_class\n",
    "from habitat_baselines.config.default import get_config\n",
    "from habitat_baselines.utils.common import batch_obs\n",
    "from habitat_baselines.utils.env_utils import construct_envs\n",
    "\n",
    "from cos_eor.policy.rank import RankModule\n",
    "from cos_eor.policy.nav import NavModule\n",
    "from cos_eor.policy.oracle_rank import OracleRankModule\n",
    "from cos_eor.policy.explore import ExploreModule\n",
    "from cos_eor.policy.hie_policy import HiePolicy\n",
    "from cos_eor.env.env import CosRearrangementRLEnv\n",
    "from cos_eor.task.sensors import *\n",
    "from cos_eor.task.measures import *\n",
    "\n",
    "dir_path = \"/coc/testnvme/gchhablani3/housekeep/\"\n",
    "os.chdir(dir_path)\n",
    "output_directory = \"logs/baseline_1\"\n",
    "output_path = os.path.join(dir_path, output_directory)\n",
    "if not os.path.exists(output_path):\n",
    "    os.mkdir(output_path)\n",
    "\n",
    "# TODO: Change for all!\n",
    "config_yaml = './logs/baseline_1/configs/ihlen_1_int.yaml'\n",
    "tag='ihlen_1_int'\n",
    "\n",
    "config = get_config(config_yaml)\n",
    "print(config.TASK_CONFIG.SEED, config.NUM_PROCESSES)\n",
    "torch.backends.cudnn.deterministic = True\n",
    "torch.backends.cudnn.benchmark = False\n",
    "random.seed(config.TASK_CONFIG.SEED * config.NUM_PROCESSES)\n",
    "np.random.seed(config.TASK_CONFIG.SEED * config.NUM_PROCESSES)\n",
    "torch.manual_seed(config.TASK_CONFIG.SEED * config.NUM_PROCESSES)\n",
    "\n",
    "out_dir = output_directory\n",
    "\n",
    "config.defrost()\n",
    "\n",
    "navmesh_file = Path(out_dir)/config.TASK_CONFIG.SIMULATOR.NAVMESH\n",
    "navmesh_file.parent.mkdir(parents=True, exist_ok=True)\n",
    "config.TASK_CONFIG.SIMULATOR.NAVMESH = str(navmesh_file)\n",
    "\n",
    "config.TASK_CONFIG.DATASET.CHECKPOINT_FILE = None\n",
    "config.freeze()"
   ]
  },
  {
   "cell_type": "code",
   "execution_count": 5,
   "id": "4ecafc68",
   "metadata": {},
   "outputs": [
    {
     "data": {
      "text/plain": [
       "Config({'name': 'HiePolicy', 'OBS_TRANSFORMS': Config({'ENABLED_TRANSFORMS': (), 'CENTER_CROPPER': Config({'HEIGHT': 256, 'WIDTH': 256}), 'RESIZE_SHORTEST_EDGE': Config({'SIZE': 256}), 'CUBE2EQ': Config({'HEIGHT': 256, 'WIDTH': 512, 'SENSOR_UUIDS': []}), 'CUBE2FISH': Config({'HEIGHT': 256, 'WIDTH': 256, 'FOV': 180, 'PARAMS': (0.2, 0.2, 0.2), 'SENSOR_UUIDS': []}), 'EQ2CUBE': Config({'HEIGHT': 256, 'WIDTH': 256, 'SENSOR_UUIDS': []})}), 'score_threshold': 0.065, 'oracle': False, 'rearrange_order': 'discovery', 'nav': Config({'name': 'OracleShortestPath'}), 'explore': Config({'name': 'frontier', 'type': 'oracle', 'max_steps_since_new_area': 10000, 'max_steps': 128, 'highres_occ_map_size': 128}), 'rank': Config({'name': 'Oracle', 'file': 'cos_eor/scripts/orm/clip_scores.npy', 'room_select': 'model_scores', 'room_stats_file': 'obj_room_stats.json', 'room_scores_file': 'cos_eor/scripts/orm/clip_obj_room_scores.npy'})})"
      ]
     },
     "execution_count": 5,
     "metadata": {},
     "output_type": "execute_result"
    }
   ],
   "source": [
    "config.RL.POLICY"
   ]
  },
  {
   "cell_type": "code",
   "execution_count": null,
   "id": "aa5fbcd1",
   "metadata": {},
   "outputs": [],
   "source": [
    "envs = construct_envs(\n",
    "    config, get_env_class(config.ENV_NAME)\n",
    ")\n",
    "print(\"Environments Constructed!\")"
   ]
  },
  {
   "cell_type": "code",
   "execution_count": null,
   "id": "f2b3857a",
   "metadata": {},
   "outputs": [],
   "source": [
    "observations = envs.reset()\n",
    "print(\"Observations Keys: \", observations[0].keys())"
   ]
  },
  {
   "cell_type": "code",
   "execution_count": null,
   "id": "2b79ab65",
   "metadata": {},
   "outputs": [],
   "source": [
    "from PIL import Image\n",
    "import matplotlib.pyplot as plt\n",
    "def display_sample(rgb_obs, semantic_obs=np.array([]), depth_obs=np.array([])):\n",
    "    from habitat_sim.utils.common import d3_40_colors_rgb\n",
    "\n",
    "    rgb_img = Image.fromarray(rgb_obs, mode=\"RGB\")\n",
    "\n",
    "    arr = [rgb_img]\n",
    "    titles = [\"rgb\"]\n",
    "    if semantic_obs.size != 0:\n",
    "        semantic_img = Image.new(\"P\", (semantic_obs.shape[1], semantic_obs.shape[0]))\n",
    "        semantic_img.putpalette(d3_40_colors_rgb.flatten())\n",
    "        semantic_img.putdata((semantic_obs.flatten() % 40).astype(np.uint8))\n",
    "        semantic_img = semantic_img.convert(\"RGBA\")\n",
    "        arr.append(semantic_img)\n",
    "        titles.append(\"semantic\")\n",
    "\n",
    "    if depth_obs.size != 0:\n",
    "        depth_img = Image.fromarray((depth_obs / 10 * 255).astype(np.uint8), mode=\"L\")\n",
    "        arr.append(depth_img)\n",
    "        titles.append(\"depth\")\n",
    "\n",
    "    plt.figure(figsize=(12, 8))\n",
    "    for i, data in enumerate(arr):\n",
    "        ax = plt.subplot(1, 3, i + 1)\n",
    "        ax.axis(\"off\")\n",
    "        ax.set_title(titles[i])\n",
    "        plt.imshow(data)\n",
    "    plt.show(block=False)"
   ]
  },
  {
   "cell_type": "code",
   "execution_count": null,
   "id": "200f5085",
   "metadata": {},
   "outputs": [],
   "source": [
    "observations[0]['depth'].shape"
   ]
  },
  {
   "cell_type": "code",
   "execution_count": null,
   "id": "d7586331",
   "metadata": {},
   "outputs": [],
   "source": [
    "observations[0]['rgb'].shape"
   ]
  },
  {
   "cell_type": "code",
   "execution_count": null,
   "id": "b4035616",
   "metadata": {},
   "outputs": [],
   "source": [
    "np.unique(observations[0]['semantic'])"
   ]
  },
  {
   "cell_type": "code",
   "execution_count": null,
   "id": "ef2916b0",
   "metadata": {
    "scrolled": true
   },
   "outputs": [],
   "source": [
    "display_sample(observations[0]['rgb'], observations[0]['semantic'], observations[0]['depth'].squeeze())"
   ]
  },
  {
   "cell_type": "code",
   "execution_count": null,
   "id": "ed0a8a05",
   "metadata": {},
   "outputs": [],
   "source": [
    "print(\"# Visible Objects: \", observations[0]['num_visible_objs'])\n",
    "print(\"# Visible Receptables: \", observations[0]['num_visible_recs'])"
   ]
  },
  {
   "cell_type": "code",
   "execution_count": null,
   "id": "4b5890a1",
   "metadata": {},
   "outputs": [],
   "source": [
    "print(observations[0]['cos_eor'].keys())"
   ]
  },
  {
   "cell_type": "code",
   "execution_count": null,
   "id": "47487453",
   "metadata": {},
   "outputs": [],
   "source": [
    "print(observations[0]['cos_eor']['agent_pos'])"
   ]
  },
  {
   "cell_type": "code",
   "execution_count": null,
   "id": "dd9a5621",
   "metadata": {},
   "outputs": [],
   "source": [
    "print(len(observations[0]['cos_eor']['recs_pos']))"
   ]
  },
  {
   "cell_type": "code",
   "execution_count": null,
   "id": "fc6d938c",
   "metadata": {},
   "outputs": [],
   "source": [
    "print(len(observations[0]['cos_eor']['objs_pos']))"
   ]
  },
  {
   "cell_type": "code",
   "execution_count": null,
   "id": "a5ffe60b",
   "metadata": {},
   "outputs": [],
   "source": [
    "print(observations[0]['cos_eor']['instance_id_count'])"
   ]
  },
  {
   "cell_type": "code",
   "execution_count": null,
   "id": "5b26fff8",
   "metadata": {},
   "outputs": [],
   "source": [
    "print(observations[0]['cos_eor']['sid_class_map'])"
   ]
  },
  {
   "cell_type": "code",
   "execution_count": null,
   "id": "0f649711",
   "metadata": {
    "scrolled": true
   },
   "outputs": [],
   "source": [
    "print(observations[0]['cos_eor']['current_mapping'])"
   ]
  },
  {
   "cell_type": "code",
   "execution_count": null,
   "id": "39f5ba7b",
   "metadata": {},
   "outputs": [],
   "source": [
    "print(observations[0]['cos_eor']['correct_mapping'])"
   ]
  },
  {
   "cell_type": "code",
   "execution_count": null,
   "id": "fd6963e8",
   "metadata": {},
   "outputs": [],
   "source": []
  }
 ],
 "metadata": {
  "kernelspec": {
   "display_name": "Python 3 (ipykernel)",
   "language": "python",
   "name": "python3"
  },
  "language_info": {
   "codemirror_mode": {
    "name": "ipython",
    "version": 3
   },
   "file_extension": ".py",
   "mimetype": "text/x-python",
   "name": "python",
   "nbconvert_exporter": "python",
   "pygments_lexer": "ipython3",
   "version": "3.7.16"
  }
 },
 "nbformat": 4,
 "nbformat_minor": 5
}
